{
 "cells": [
  {
   "cell_type": "code",
   "execution_count": 1,
   "metadata": {},
   "outputs": [],
   "source": [
    "# import useful library and tools\n",
    "import numpy as np\n",
    "import pandas as pd\n",
    "import os\n",
    "import seaborn as sns\n",
    "from matplotlib import pyplot as plt\n",
    "import scipy"
   ]
  },
  {
   "cell_type": "code",
   "execution_count": 2,
   "metadata": {},
   "outputs": [
    {
     "data": {
      "text/html": [
       "<div>\n",
       "<style scoped>\n",
       "    .dataframe tbody tr th:only-of-type {\n",
       "        vertical-align: middle;\n",
       "    }\n",
       "\n",
       "    .dataframe tbody tr th {\n",
       "        vertical-align: top;\n",
       "    }\n",
       "\n",
       "    .dataframe thead th {\n",
       "        text-align: right;\n",
       "    }\n",
       "</style>\n",
       "<table border=\"1\" class=\"dataframe\">\n",
       "  <thead>\n",
       "    <tr style=\"text-align: right;\">\n",
       "      <th></th>\n",
       "      <th>Unnamed: 0</th>\n",
       "      <th>nfvPPA</th>\n",
       "      <th>lvPPA</th>\n",
       "      <th>sbvFTD</th>\n",
       "      <th>svPPA</th>\n",
       "      <th>bvFTD</th>\n",
       "    </tr>\n",
       "  </thead>\n",
       "  <tbody>\n",
       "    <tr>\n",
       "      <th>0</th>\n",
       "      <td>Cross-Sectional</td>\n",
       "      <td>56</td>\n",
       "      <td>38</td>\n",
       "      <td>23</td>\n",
       "      <td>30</td>\n",
       "      <td>51</td>\n",
       "    </tr>\n",
       "    <tr>\n",
       "      <th>1</th>\n",
       "      <td>Longitudinal</td>\n",
       "      <td>19</td>\n",
       "      <td>15</td>\n",
       "      <td>2</td>\n",
       "      <td>2</td>\n",
       "      <td>1</td>\n",
       "    </tr>\n",
       "  </tbody>\n",
       "</table>\n",
       "</div>"
      ],
      "text/plain": [
       "        Unnamed: 0  nfvPPA  lvPPA  sbvFTD  svPPA  bvFTD\n",
       "0  Cross-Sectional      56     38      23     30     51\n",
       "1     Longitudinal      19     15       2      2      1"
      ]
     },
     "execution_count": 2,
     "metadata": {},
     "output_type": "execute_result"
    }
   ],
   "source": [
    "#load csv as dataframe\n",
    "prisma_df = pd.read_csv('/Users/jpillai/Documents/PPA_PRISMA.csv')\n",
    "trio_df = pd.read_csv('/Users/jpillai/Documents/PPA_TRIO.csv')\n",
    "\n",
    "prisma_df"
   ]
  },
  {
   "cell_type": "code",
   "execution_count": 3,
   "metadata": {},
   "outputs": [
    {
     "data": {
      "text/html": [
       "<div>\n",
       "<style scoped>\n",
       "    .dataframe tbody tr th:only-of-type {\n",
       "        vertical-align: middle;\n",
       "    }\n",
       "\n",
       "    .dataframe tbody tr th {\n",
       "        vertical-align: top;\n",
       "    }\n",
       "\n",
       "    .dataframe thead th {\n",
       "        text-align: right;\n",
       "    }\n",
       "</style>\n",
       "<table border=\"1\" class=\"dataframe\">\n",
       "  <thead>\n",
       "    <tr style=\"text-align: right;\">\n",
       "      <th></th>\n",
       "      <th>Type</th>\n",
       "      <th>nfvPPA</th>\n",
       "      <th>lvPPA</th>\n",
       "      <th>sbvFTD</th>\n",
       "      <th>svPPA</th>\n",
       "      <th>bvFTD</th>\n",
       "    </tr>\n",
       "  </thead>\n",
       "  <tbody>\n",
       "    <tr>\n",
       "      <th>0</th>\n",
       "      <td>Cross-Sectional</td>\n",
       "      <td>56</td>\n",
       "      <td>38</td>\n",
       "      <td>23</td>\n",
       "      <td>30</td>\n",
       "      <td>51</td>\n",
       "    </tr>\n",
       "    <tr>\n",
       "      <th>1</th>\n",
       "      <td>Longitudinal</td>\n",
       "      <td>19</td>\n",
       "      <td>15</td>\n",
       "      <td>2</td>\n",
       "      <td>2</td>\n",
       "      <td>1</td>\n",
       "    </tr>\n",
       "  </tbody>\n",
       "</table>\n",
       "</div>"
      ],
      "text/plain": [
       "              Type  nfvPPA  lvPPA  sbvFTD  svPPA  bvFTD\n",
       "0  Cross-Sectional      56     38      23     30     51\n",
       "1     Longitudinal      19     15       2      2      1"
      ]
     },
     "execution_count": 3,
     "metadata": {},
     "output_type": "execute_result"
    }
   ],
   "source": [
    "#rename Unnamed: 0 to \"Type\"\n",
    "prisma_df.rename(columns={'Unnamed: 0':'Type'}, inplace=True)\n",
    "trio_df.rename(columns={'Unnamed: 0':'Type'}, inplace=True)\n",
    "\n",
    "prisma_df"
   ]
  },
  {
   "cell_type": "code",
   "execution_count": 18,
   "metadata": {},
   "outputs": [
    {
     "name": "stderr",
     "output_type": "stream",
     "text": [
      "/var/folders/37/67fqfg3s0nx798zjptbk3rl80000gn/T/ipykernel_32819/2669610265.py:26: FutureWarning: The pandas.np module is deprecated and will be removed from pandas in a future version. Import numpy directly instead.\n",
      "  index = pd.np.arange(len(df.columns))\n"
     ]
    },
    {
     "data": {
      "image/png": "[encoded data removed]",
      "text/plain": [
       "<Figure size 640x480 with 1 Axes>"
      ]
     },
     "metadata": {},
     "output_type": "display_data"
    },
    {
     "data": {
      "text/plain": [
       "<Figure size 640x480 with 0 Axes>"
      ]
     },
     "metadata": {},
     "output_type": "display_data"
    }
   ],
   "source": [
    "import pandas as pd\n",
    "import matplotlib.pyplot as plt\n",
    "\n",
    "# Since the image contains tabular data, we need to manually input the data\n",
    "# Create a DataFrame from the data provided in the image\n",
    "data = {\n",
    "    'Type': ['Cross-Sectional', 'Longitudinal'],\n",
    "    'nfvPPA': [56, 19],\n",
    "    'lvPPA': [38, 15],\n",
    "    'sbvFTD': [23, 2],\n",
    "    'svPPA': [30, 2],\n",
    "    'bvFTD': [51, 1]\n",
    "}\n",
    "\n",
    "# Convert the dictionary to a DataFrame\n",
    "df = pd.DataFrame(data)\n",
    "\n",
    "# Set 'Type' as the index of the dataframe\n",
    "df.set_index('Type', inplace=True)\n",
    "\n",
    "# Plotting the data\n",
    "fig, ax = plt.subplots()\n",
    "\n",
    "# We need to create an array with the position of each group of bars.\n",
    "bar_width = 0.25\n",
    "index = pd.np.arange(len(df.columns))\n",
    "\n",
    "# We'll plot two bars for each category in the x-axis\n",
    "bar1 = ax.bar(index, df.loc['Cross-Sectional'], bar_width, label='Cross-Sectional', color='#3E7C17')\n",
    "bar2 = ax.bar(index + bar_width, df.loc['Longitudinal'], bar_width, label='Longitudinal', color='#E08E45')\n",
    "\n",
    "# Add some labels, title and axes ticks\n",
    "ax.set_xlabel('PPA Variant')\n",
    "ax.set_ylabel('Counts')\n",
    "ax.set_title('rsfMRI PPA - PRISMA')\n",
    "ax.set_xticks(index + bar_width / 2)\n",
    "ax.set_xticklabels(df.columns)\n",
    "ax.legend()\n",
    "\n",
    "# Show the plot\n",
    "plt.xticks(rotation=45)\n",
    "plt.tight_layout()\n",
    "plt.show()\n",
    "plt.savefig('/Users/jpillai/Documents/rsfMRI-PPA-PRISMA.png', dpi=300)  # Save as a high-resolution image"
   ]
  },
  {
   "cell_type": "code",
   "execution_count": 19,
   "metadata": {},
   "outputs": [
    {
     "data": {
      "text/html": [
       "<div>\n",
       "<style scoped>\n",
       "    .dataframe tbody tr th:only-of-type {\n",
       "        vertical-align: middle;\n",
       "    }\n",
       "\n",
       "    .dataframe tbody tr th {\n",
       "        vertical-align: top;\n",
       "    }\n",
       "\n",
       "    .dataframe thead th {\n",
       "        text-align: right;\n",
       "    }\n",
       "</style>\n",
       "<table border=\"1\" class=\"dataframe\">\n",
       "  <thead>\n",
       "    <tr style=\"text-align: right;\">\n",
       "      <th></th>\n",
       "      <th>Type</th>\n",
       "      <th>nfvPPA</th>\n",
       "      <th>lvPPA</th>\n",
       "      <th>sbvFTD</th>\n",
       "      <th>svPPA</th>\n",
       "      <th>bvFTD</th>\n",
       "    </tr>\n",
       "  </thead>\n",
       "  <tbody>\n",
       "    <tr>\n",
       "      <th>0</th>\n",
       "      <td>Cross-Sectional</td>\n",
       "      <td>53</td>\n",
       "      <td>35</td>\n",
       "      <td>17</td>\n",
       "      <td>37</td>\n",
       "      <td>21</td>\n",
       "    </tr>\n",
       "    <tr>\n",
       "      <th>1</th>\n",
       "      <td>Longitudinal</td>\n",
       "      <td>31</td>\n",
       "      <td>13</td>\n",
       "      <td>3</td>\n",
       "      <td>5</td>\n",
       "      <td>0</td>\n",
       "    </tr>\n",
       "  </tbody>\n",
       "</table>\n",
       "</div>"
      ],
      "text/plain": [
       "              Type  nfvPPA  lvPPA  sbvFTD  svPPA  bvFTD\n",
       "0  Cross-Sectional      53     35      17     37     21\n",
       "1     Longitudinal      31     13       3      5      0"
      ]
     },
     "execution_count": 19,
     "metadata": {},
     "output_type": "execute_result"
    }
   ],
   "source": [
    "trio_df"
   ]
  },
  {
   "cell_type": "code",
   "execution_count": 20,
   "metadata": {},
   "outputs": [
    {
     "name": "stderr",
     "output_type": "stream",
     "text": [
      "/var/folders/37/67fqfg3s0nx798zjptbk3rl80000gn/T/ipykernel_32819/3442492451.py:26: FutureWarning: The pandas.np module is deprecated and will be removed from pandas in a future version. Import numpy directly instead.\n",
      "  index = pd.np.arange(len(df.columns))\n"
     ]
    },
    {
     "data": {
      "image/png": "[encoded data removed]",
      "text/plain": [
       "<Figure size 640x480 with 1 Axes>"
      ]
     },
     "metadata": {},
     "output_type": "display_data"
    },
    {
     "data": {
      "text/plain": [
       "<Figure size 640x480 with 0 Axes>"
      ]
     },
     "metadata": {},
     "output_type": "display_data"
    }
   ],
   "source": [
    "import pandas as pd\n",
    "import matplotlib.pyplot as plt\n",
    "\n",
    "# Since the image contains tabular data, we need to manually input the data\n",
    "# Create a DataFrame from the data provided in the image\n",
    "data = {\n",
    "    'Type': ['Cross-Sectional', 'Longitudinal'],\n",
    "    'nfvPPA': [53, 31],\n",
    "    'lvPPA': [35, 13],\n",
    "    'sbvFTD': [17, 3],\n",
    "    'svPPA': [37, 5],\n",
    "    'bvFTD': [21, 0]\n",
    "}\n",
    "\n",
    "# Convert the dictionary to a DataFrame\n",
    "df = pd.DataFrame(data)\n",
    "\n",
    "# Set 'Type' as the index of the dataframe\n",
    "df.set_index('Type', inplace=True)\n",
    "\n",
    "# Plotting the data\n",
    "fig, ax = plt.subplots()\n",
    "\n",
    "# We need to create an array with the position of each group of bars.\n",
    "bar_width = 0.25\n",
    "index = pd.np.arange(len(df.columns))\n",
    "\n",
    "# We'll plot two bars for each category in the x-axis\n",
    "bar1 = ax.bar(index, df.loc['Cross-Sectional'], bar_width, label='Cross-Sectional', color='#3E7C17')\n",
    "bar2 = ax.bar(index + bar_width, df.loc['Longitudinal'], bar_width, label='Longitudinal', color='#E08E45')\n",
    "\n",
    "# Add some labels, title and axes ticks\n",
    "ax.set_xlabel('PPA Variant')\n",
    "ax.set_ylabel('Counts')\n",
    "ax.set_title('rsfMRI PPA - TRIO')\n",
    "ax.set_xticks(index + bar_width / 2)\n",
    "ax.set_xticklabels(df.columns)\n",
    "ax.legend()\n",
    "\n",
    "# Show the plot\n",
    "plt.xticks(rotation=45)\n",
    "plt.tight_layout()\n",
    "plt.show()\n",
    "plt.savefig('/Users/jpillai/Documents/rsfMRI-PPA-TRIO.png', dpi=300)  # Save as a high-resolution image"
   ]
  },
  {
   "cell_type": "code",
   "execution_count": null,
   "metadata": {},
   "outputs": [],
   "source": []
  }
 ],
 "metadata": {
  "kernelspec": {
   "display_name": "Python 3.9.13 ('base')",
   "language": "python",
   "name": "python3"
  },
  "language_info": {
   "codemirror_mode": {
    "name": "ipython",
    "version": 3
   },
   "file_extension": ".py",
   "mimetype": "text/x-python",
   "name": "python",
   "nbconvert_exporter": "python",
   "pygments_lexer": "ipython3",
   "version": "3.9.13"
  },
  "orig_nbformat": 4,
  "vscode": {
   "interpreter": {
    "hash": "7d7010f9d425683ae41e5b0b8dc0d6eb35e44e03f18d381e022146c22a330439"
   }
  }
 },
 "nbformat": 4,
 "nbformat_minor": 2
}
